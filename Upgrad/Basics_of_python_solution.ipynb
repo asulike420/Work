{
 "cells": [
  {
   "cell_type": "markdown",
   "metadata": {
    "colab_type": "text",
    "id": "e2CWWATVTFOQ"
   },
   "source": [
    "# Practice Exercise"
   ]
  },
  {
   "cell_type": "markdown",
   "metadata": {
    "colab_type": "text",
    "id": "gxSUV29HVelr"
   },
   "source": [
    "Question 1: Let us start by printing the word \"Welcome to the practice exercise\" in python."
   ]
  },
  {
   "cell_type": "code",
   "execution_count": null,
   "metadata": {
    "colab": {
     "base_uri": "https://localhost:8080/",
     "height": 34
    },
    "colab_type": "code",
    "id": "sn3vu-6dVsEP",
    "outputId": "8e44d2dd-7e2d-4ddf-b8e0-2acaa22282d4"
   },
   "outputs": [
    {
     "name": "stdout",
     "output_type": "stream",
     "text": [
      "Welcome to the practice exercise\n"
     ]
    }
   ],
   "source": [
    "print('Welcome to the practice exercise')"
   ]
  },
  {
   "cell_type": "markdown",
   "metadata": {
    "colab_type": "text",
    "id": "Ys8qEL-HTMA1"
   },
   "source": [
    "Question 2: Create a string variable and print the string."
   ]
  },
  {
   "cell_type": "code",
   "execution_count": null,
   "metadata": {
    "colab": {
     "base_uri": "https://localhost:8080/",
     "height": 34
    },
    "colab_type": "code",
    "id": "ypmiTaqjSu_C",
    "outputId": "b92eac90-aaf3-431e-8bbc-c0449dea5a0c"
   },
   "outputs": [
    {
     "name": "stdout",
     "output_type": "stream",
     "text": [
      "Hello\n"
     ]
    }
   ],
   "source": [
    "# Create a string variable:\n",
    "var='Hello'\n",
    "\n",
    "# Print the string:\n",
    "print(var)"
   ]
  },
  {
   "cell_type": "markdown",
   "metadata": {
    "colab_type": "text",
    "id": "SCtZJrEjUyLV"
   },
   "source": [
    "Question 3: Create a string by taking user input and print the string."
   ]
  },
  {
   "cell_type": "code",
   "execution_count": null,
   "metadata": {
    "colab": {
     "base_uri": "https://localhost:8080/",
     "height": 51
    },
    "colab_type": "code",
    "id": "kuNOPj11TU10",
    "outputId": "02c9f8c4-06f8-491f-a3ad-3d848debc7e9"
   },
   "outputs": [
    {
     "name": "stdout",
     "output_type": "stream",
     "text": [
      "Enter the stringHello Friends\n",
      "Hello Friends\n"
     ]
    }
   ],
   "source": [
    "# Create a string variable taking user input:\n",
    "var1=input('Enter the string')\n",
    "\n",
    "# Print the string:\n",
    "print(var1)"
   ]
  },
  {
   "cell_type": "markdown",
   "metadata": {
    "colab_type": "text",
    "id": "DImK3bXbVQmK"
   },
   "source": [
    "Question 4: Print the pattern given below:\n",
    "\n",
    "\n",
    "\n",
    "![image.png](data:image/png;base64,iVBORw0KGgoAAAANSUhEUgAAADIAAABFCAYAAAAIGLXIAAACvklEQVRoBe1abW7DIAzljJF6oSpXSY/SHWQ/egxPgA3GfAwxEO3kSVP4NLz3TGInNfBP/sw/wQEK5N2UVEVUkUUMqGstInbYrCoyTN2iiarIImKHzaoiPdS9HgcYY+D86hn9tzGLFHnBdTNwPC44PxmIVcKr8PxsINFJFEjkorO06IzQ6qoIMdF9VUWaVH2d7vlhnyH8f+XzZLEiTbhTOxXIVDonGFNFJpA41YQqMpXOCcZUkQkkTjWhikAShhxwfTOCvy84eHhyu+DFukORxtX6w8DfC4OK2PD8hCfa97l5rMtln3cD5k6jqdenw+f9BLMPCG0Gr45ZoQob4oAKIK7NArDKfgYQZJ6/SeHA3weI32jmOvwMCcatqx0PPDXvAsT5v9go8ypfdKDwDMmNy3o2ua9h8LB74w4EO/T1Je3NwZ8hPydNuCj5+kviNQykHwRAONglpFsVofs/f1bYMt2ZnCsx1luutxVIidnNbcOutXnf2fIKJKNkc4MqslmAbHlVJKNkc4MqslmAbPmqIj7rY2FG6aNmEqrExKoWGMag0H8AomDRyMAzsdv3VbgJJOQMGX4An7PHzZeGhDaeSEGeaDngFKeB+MqVzA0Ws8IgELuZThCA0W+y0XQuT4VLkbIF2iQVoP7jTGuwOtmxdMKFPwhwLlKNcGMuQjQmKQC6EbkdB0XjS23UR9emItGHWYhuZ2KYHoFW0t1MDVo22jCYcIUe6UoINKQIYWBaqAJJh4mNlnKIUpv0dzTqFCEFM1LQFSnXuV3wbHkH2uwEIvwcXSt5U1UAUvJ3kIzbjTgw7fdi5HopwbHWBwTljca8QtK1Yt0uIO4+tGZmCyBRiMbh1fWFG4XoZNUKEHQlklf6sTOQPgtSEO3N0RkLZ5DcrMMu23tSrABJxnxERYG8m0yqiCqyiAF1rUXEDpv9AT7GtDRI+0oLAAAAAElFTkSuQmCC)"
   ]
  },
  {
   "cell_type": "code",
   "execution_count": null,
   "metadata": {
    "colab": {
     "base_uri": "https://localhost:8080/",
     "height": 68
    },
    "colab_type": "code",
    "id": "DkSe8TvcVPMK",
    "outputId": "a00145ec-4c1f-4897-9afa-7af845ab7286"
   },
   "outputs": [
    {
     "name": "stdout",
     "output_type": "stream",
     "text": [
      "  1  \n",
      " 234 \n",
      "56789\n"
     ]
    }
   ],
   "source": [
    "# Print the pattern shown in the question above:\n",
    "print('  1  ')\n",
    "print(' 234 ')\n",
    "print('56789')"
   ]
  },
  {
   "cell_type": "markdown",
   "metadata": {
    "colab_type": "text",
    "id": "wmEibYOCXoUV"
   },
   "source": [
    "Question 5: Print the '#' symbol 15 times without having to type it for 15 times."
   ]
  },
  {
   "cell_type": "code",
   "execution_count": null,
   "metadata": {
    "colab": {
     "base_uri": "https://localhost:8080/",
     "height": 34
    },
    "colab_type": "code",
    "id": "ca4yCx9OXfyt",
    "outputId": "1df4a762-b8c8-4bc7-c271-ea828c637146"
   },
   "outputs": [
    {
     "name": "stdout",
     "output_type": "stream",
     "text": [
      "###############\n"
     ]
    }
   ],
   "source": [
    "# Print the pattern shown in the question above:\n",
    "print('#'*15)"
   ]
  },
  {
   "cell_type": "markdown",
   "metadata": {
    "colab_type": "text",
    "id": "pCh5QAyGYdWe"
   },
   "source": [
    "Question 6: Take the user input to print the current date"
   ]
  },
  {
   "cell_type": "code",
   "execution_count": null,
   "metadata": {
    "colab": {
     "base_uri": "https://localhost:8080/",
     "height": 51
    },
    "colab_type": "code",
    "id": "uO-kTgb7XoJZ",
    "outputId": "d0c7fbf4-7ef6-46e3-b13d-1e69dc08f378"
   },
   "outputs": [
    {
     "name": "stdout",
     "output_type": "stream",
     "text": [
      "Enter the date26/08/2020\n",
      "26/08/2020\n"
     ]
    }
   ],
   "source": [
    "# Take the user input into a string:\n",
    "var2=input('Enter the date')\n",
    "\n",
    "# Print the date:\n",
    "print(var2)"
   ]
  },
  {
   "cell_type": "markdown",
   "metadata": {
    "colab_type": "text",
    "id": "WzkRCuNYZOnp"
   },
   "source": [
    "Question 7: Type cast the interger 1.8 into a string and print the result."
   ]
  },
  {
   "cell_type": "code",
   "execution_count": null,
   "metadata": {
    "colab": {
     "base_uri": "https://localhost:8080/",
     "height": 34
    },
    "colab_type": "code",
    "id": "tv7dzZX2YdFH",
    "outputId": "9c87460f-64dd-45d2-9a36-6a6e9c93e2c9"
   },
   "outputs": [
    {
     "name": "stdout",
     "output_type": "stream",
     "text": [
      "1.8\n"
     ]
    }
   ],
   "source": [
    "# Store the interger as a varaible:\n",
    "integer=1.8\n",
    "\n",
    "# Typecast the integer:\n",
    "string=str(integer)\n",
    "\n",
    "# Print the result:\n",
    "print(string)"
   ]
  },
  {
   "cell_type": "markdown",
   "metadata": {
    "colab_type": "text",
    "id": "IP5LMF00bATM"
   },
   "source": [
    "Question 8: Find the product of two numbers input by the user."
   ]
  },
  {
   "cell_type": "code",
   "execution_count": null,
   "metadata": {
    "colab": {
     "base_uri": "https://localhost:8080/",
     "height": 68
    },
    "colab_type": "code",
    "id": "_REzzqdwa3Gp",
    "outputId": "8dc1fb7a-b612-49e0-ace8-6004fd31ebb4"
   },
   "outputs": [
    {
     "name": "stdout",
     "output_type": "stream",
     "text": [
      "Enter the first number10\n",
      "Enter the second number2\n",
      "20\n"
     ]
    }
   ],
   "source": [
    "# Take input of the first number and store it in a variable:\n",
    "num1= input('Enter the first number') \n",
    "\n",
    "# Take input of the second number and store it in a variable:\n",
    "num2= input('Enter the second number') \n",
    "\n",
    "# You will need to typecast the input strings into integers\n",
    "# Calculate the product:\n",
    "prod= int(num1) * int(num2)\n",
    "\n",
    "# Print the result:\n",
    "print(prod)"
   ]
  },
  {
   "cell_type": "markdown",
   "metadata": {
    "colab_type": "text",
    "id": "041d-OjCcXt9"
   },
   "source": [
    "Question 9: Calculate the remainder of the number 6 when divided by the number 4."
   ]
  },
  {
   "cell_type": "code",
   "execution_count": null,
   "metadata": {
    "colab": {
     "base_uri": "https://localhost:8080/",
     "height": 34
    },
    "colab_type": "code",
    "id": "rLigN9eFb1JT",
    "outputId": "9301c739-dd15-486d-e30f-641b5ddae5c3"
   },
   "outputs": [
    {
     "name": "stdout",
     "output_type": "stream",
     "text": [
      "The remainder is 2\n"
     ]
    }
   ],
   "source": [
    "# Find the modulus and print the result:\n",
    "print('The remainder is',6%4)"
   ]
  },
  {
   "cell_type": "markdown",
   "metadata": {
    "colab_type": "text",
    "id": "xyFL6iLUczpm"
   },
   "source": [
    "Question 10: Solve the error in code below and print the correct result."
   ]
  },
  {
   "cell_type": "code",
   "execution_count": null,
   "metadata": {
    "colab": {
     "base_uri": "https://localhost:8080/",
     "height": 34
    },
    "colab_type": "code",
    "id": "DX_mc1H8cyRC",
    "outputId": "114f955c-3369-4a07-b192-3e3e2f4f31ce"
   },
   "outputs": [
    {
     "name": "stdout",
     "output_type": "stream",
     "text": [
      "I can't study any longer\n"
     ]
    }
   ],
   "source": [
    "# Given:\n",
    "#print('I can't study any longer')\n",
    "\n",
    "# Corrected solution:\n",
    "print('I can\\'t study any longer')"
   ]
  },
  {
   "cell_type": "markdown",
   "metadata": {
    "colab_type": "text",
    "id": "MsVRoye5daZG"
   },
   "source": [
    "Question 11: Print the following statement using only 1 print statement:\n",
    "\n",
    "Hello\n",
    "\n",
    "Good Morning"
   ]
  },
  {
   "cell_type": "code",
   "execution_count": null,
   "metadata": {
    "colab": {
     "base_uri": "https://localhost:8080/",
     "height": 51
    },
    "colab_type": "code",
    "id": "PqnV_g10dOzS",
    "outputId": "c27abe01-0e17-4536-db97-2775fdd1aa85"
   },
   "outputs": [
    {
     "name": "stdout",
     "output_type": "stream",
     "text": [
      "Hello\n",
      "Good Morning\n"
     ]
    }
   ],
   "source": [
    "# Print the required statement:\n",
    "print('Hello\\nGood Morning')"
   ]
  },
  {
   "cell_type": "markdown",
   "metadata": {
    "colab_type": "text",
    "id": "r8xXSTHRd5RT"
   },
   "source": [
    "Question 12: Concatenate the given strings and print the result:\n"
   ]
  },
  {
   "cell_type": "code",
   "execution_count": null,
   "metadata": {
    "colab": {
     "base_uri": "https://localhost:8080/",
     "height": 34
    },
    "colab_type": "code",
    "id": "PuwSE5uidy24",
    "outputId": "0e62a96a-853a-4028-852f-7554696eee19"
   },
   "outputs": [
    {
     "name": "stdout",
     "output_type": "stream",
     "text": [
      "Welcome to upgradcoding practice session.\n"
     ]
    }
   ],
   "source": [
    "# Given below are the two strings:\n",
    "string1= 'Welcome to upgrad'\n",
    "string2= 'coding practice session.'\n",
    "\n",
    "# Concatenate and print the result:\n",
    "print(string1+string2)"
   ]
  },
  {
   "cell_type": "markdown",
   "metadata": {
    "colab_type": "text",
    "id": "QpkUZwCsefdt"
   },
   "source": [
    "Question 13: Find the length of string given below and print the result.\n"
   ]
  },
  {
   "cell_type": "code",
   "execution_count": null,
   "metadata": {
    "colab": {
     "base_uri": "https://localhost:8080/",
     "height": 34
    },
    "colab_type": "code",
    "id": "24Am9RaseEXP",
    "outputId": "b6133d78-bb06-4958-e108-61133f99d4a8"
   },
   "outputs": [
    {
     "name": "stdout",
     "output_type": "stream",
     "text": [
      "54\n"
     ]
    }
   ],
   "source": [
    "# Given below is the string:\n",
    "string='Hi, I hope you are having a great learning experience.'\n",
    "\n",
    "# Calculate and print the length:\n",
    "print(len(string))"
   ]
  },
  {
   "cell_type": "markdown",
   "metadata": {
    "colab_type": "text",
    "id": "KoVEaa4QfMb_"
   },
   "source": [
    "Question 14: Create a string of length=10. Obtain the fifth and seventh character of the string. Concatenate the characters and form a new string. Print the new string."
   ]
  },
  {
   "cell_type": "code",
   "execution_count": 1,
   "metadata": {
    "colab": {
     "base_uri": "https://localhost:8080/",
     "height": 34
    },
    "colab_type": "code",
    "id": "U-356eSce6UM",
    "outputId": "604192b3-9a8a-4d0d-fb38-8681bae43887"
   },
   "outputs": [
    {
     "name": "stdout",
     "output_type": "stream",
     "text": [
      "tc\n"
     ]
    }
   ],
   "source": [
    "# Create a string of length 10:\n",
    "str1='Practice14'\n",
    "\n",
    "# You can check the length:\n",
    "len(str1)\n",
    "\n",
    "# Obtain the fifth letter and store it into a new string:\n",
    "str2=str1[4]\n",
    "\n",
    "# Obtain the seventh letter and store it into a new string:\n",
    "str3=str1[6]\n",
    "\n",
    "# Concatenate the two strings:\n",
    "str4=str2+str3\n",
    "\n",
    "# Print the result:\n",
    "print(str4)"
   ]
  },
  {
   "cell_type": "markdown",
   "metadata": {
    "colab_type": "text",
    "id": "-9wQ6PQtzNi3"
   },
   "source": [
    "Question 15: Given below is a string. Perform the following operations and print the results:\n",
    "1. Remove the extra spaces from the string and print the new string.\n",
    "2. Find the length of new string\n",
    "3. Remove the last 5 characters of the new string\n",
    "4. Find the 15th character of the new string\n",
    "5. Compute the result of concatenation of the first and last letter of the new string.\n"
   ]
  },
  {
   "cell_type": "code",
   "execution_count": 2,
   "metadata": {
    "colab": {
     "base_uri": "https://localhost:8080/",
     "height": 102
    },
    "colab_type": "code",
    "id": "T9GOWY_JyErD",
    "outputId": "f5e0efe3-ae16-489f-adbb-81db54ba9b51"
   },
   "outputs": [
    {
     "name": "stdout",
     "output_type": "stream",
     "text": [
      "I hope you enjoyed this practice session.\n",
      "41\n",
      "I hope you enjoyed this practice ses\n",
      "o\n",
      "Is\n"
     ]
    }
   ],
   "source": [
    "# Given below is the string:\n",
    "line= '     I hope you enjoyed this practice session.'\n",
    "\n",
    "# Removing extra spaces:\n",
    "line1=line.strip()\n",
    "\n",
    "# Print the result\n",
    "print(line1)\n",
    "\n",
    "# Calculate the length:\n",
    "print(len(line1))\n",
    "\n",
    "# Slice the string to remove the last 5 characters:\n",
    "line2=line1[:36]\n",
    "\n",
    "# Print the result\n",
    "print(line2)\n",
    "\n",
    "# Print the 15th character of the string:\n",
    "print(line2[14])\n",
    "\n",
    "# Print the concatenation of first and last character of resulting string:\n",
    "print(line2[0]+line2[-1])"
   ]
  },
  {
   "cell_type": "code",
   "execution_count": null,
   "metadata": {},
   "outputs": [],
   "source": []
  }
 ],
 "metadata": {
  "colab": {
   "name": "Basics_of_python_solution.ipynb",
   "provenance": []
  },
  "kernelspec": {
   "display_name": "Python 3",
   "language": "python",
   "name": "python3"
  },
  "language_info": {
   "codemirror_mode": {
    "name": "ipython",
    "version": 3
   },
   "file_extension": ".py",
   "mimetype": "text/x-python",
   "name": "python",
   "nbconvert_exporter": "python",
   "pygments_lexer": "ipython3",
   "version": "3.7.6"
  }
 },
 "nbformat": 4,
 "nbformat_minor": 1
}
