{
 "cells": [
  {
   "cell_type": "markdown",
   "metadata": {
    "colab_type": "text",
    "id": "oHccLE5Adigd"
   },
   "source": [
    "# Control Structures"
   ]
  },
  {
   "cell_type": "markdown",
   "metadata": {
    "colab_type": "text",
    "id": "qp1r-3XTdigg"
   },
   "source": [
    "### Question \n",
    "\n",
    "\n",
    "A word is said to belong to the red team if it has the letter r in it.\n",
    "Write an 'if' statement to check whether the given word belongs to the red team or not.\n"
   ]
  },
  {
   "cell_type": "code",
   "execution_count": 1,
   "metadata": {
    "colab": {},
    "colab_type": "code",
    "id": "dKtFKt-Rdigi",
    "outputId": "be7c23b4-de2f-46dd-c04b-57eefb207b3c"
   },
   "outputs": [
    {
     "name": "stdout",
     "output_type": "stream",
     "text": [
      "The word belongs to red team\n"
     ]
    }
   ],
   "source": [
    "# write code here\n",
    "if 'r' in 'real':\n",
    "    print('The word belongs to red team')"
   ]
  },
  {
   "cell_type": "markdown",
   "metadata": {
    "colab_type": "text",
    "id": "IWcRXMZRdigp"
   },
   "source": [
    "### Question \n",
    "\n",
    "In continuation to previous example, if the word has the letter 'b', it belongs to the blue team. And if the word has both 'r' and 'b' then first letter gets a precedence. And if the word does not have the letter 'r' or 'b', it does not belong to any team. \n",
    "######Example: (word,output)                \n",
    "*   rabbit = red team\n",
    "*   brand =  blue team\n",
    "*   dog   =  no team\n",
    "\n",
    "\n",
    "Write a condition for this decision. \n"
   ]
  },
  {
   "cell_type": "code",
   "execution_count": 4,
   "metadata": {
    "colab": {},
    "colab_type": "code",
    "id": "YsuN3HUcdigr",
    "outputId": "6489f091-cf54-4c3c-ab4d-4f961356860e"
   },
   "outputs": [
    {
     "name": "stdout",
     "output_type": "stream",
     "text": [
      "The word belongs to blue team\n"
     ]
    }
   ],
   "source": [
    "# write code here \n",
    "for char in 'break':\n",
    "    if 'r' == char:\n",
    "        print('The word belongs to red team')\n",
    "        break\n",
    "    elif 'b' == char:\n",
    "        print('The word belongs to blue team')\n",
    "        break\n",
    "if not('r' in 'break') and  not('b' not in 'break'):\n",
    "    print('The word belongs to no team')\n",
    "    \n",
    "        \n",
    "        \n",
    "# you might want to consider if statement inside a for loop"
   ]
  },
  {
   "cell_type": "markdown",
   "metadata": {
    "colab_type": "text",
    "id": "H6pFkWTjdig0"
   },
   "source": [
    "### Question \n",
    "\n",
    "Write a program to print all the numbers which are divisible by 17 between 1 and a given number 'n'. "
   ]
  },
  {
   "cell_type": "code",
   "execution_count": 5,
   "metadata": {
    "colab": {},
    "colab_type": "code",
    "id": "Fs4AaO-wdig1",
    "outputId": "8c008e24-75d6-41a2-988e-771fb0d84ec4"
   },
   "outputs": [
    {
     "ename": "SyntaxError",
     "evalue": "invalid syntax (Temp/ipykernel_18660/4138296537.py, line 1)",
     "output_type": "error",
     "traceback": [
      "\u001b[1;36m  File \u001b[1;32m\"C:\\Users\\asuli\\AppData\\Local\\Temp/ipykernel_18660/4138296537.py\"\u001b[1;36m, line \u001b[1;32m1\u001b[0m\n\u001b[1;33m    f = lambda x:x if x%17==0\u001b[0m\n\u001b[1;37m                             ^\u001b[0m\n\u001b[1;31mSyntaxError\u001b[0m\u001b[1;31m:\u001b[0m invalid syntax\n"
     ]
    }
   ],
   "source": [
    "f = lambda x:x if x%17==0\n",
    "filter(f, lsit(range(1,100))"
   ]
  },
  {
   "cell_type": "markdown",
   "metadata": {
    "colab_type": "text",
    "id": "0YmgmJr0dig7"
   },
   "source": [
    "### Question\n",
    "\n",
    "Write a program to add 13 to all the elements of a given numeric list. \n",
    "######Example - \n",
    "* Input list = [1,5,27] \n",
    "* Output list = [14,18,40]"
   ]
  },
  {
   "cell_type": "code",
   "execution_count": 7,
   "metadata": {
    "colab": {},
    "colab_type": "code",
    "id": "Sc9YRB7gdig8",
    "outputId": "eddb0ff1-5134-4c9e-b07c-0f1e75a312e9"
   },
   "outputs": [
    {
     "data": {
      "text/plain": [
       "[19, 111, 47, 58, 77, 20, 15, 18, 91, 103, 337, 124, 670, 451]"
      ]
     },
     "execution_count": 7,
     "metadata": {},
     "output_type": "execute_result"
    }
   ],
   "source": [
    "sample_list = [6, 98, 34, 45, 64, 7, 2, 5, 78, 90, 324, 111, 657, 438]\n",
    "\n",
    "# Write solution code here\n",
    "f = lambda x:x+13\n",
    "list(map(f, sample_list))"
   ]
  },
  {
   "cell_type": "markdown",
   "metadata": {
    "colab_type": "text",
    "id": "Ab9mZZGedihF"
   },
   "source": [
    "### Question\n",
    "\n",
    "In continuation to the example above, execute the same operation on the same sample list using list comprihension."
   ]
  },
  {
   "cell_type": "code",
   "execution_count": 10,
   "metadata": {
    "colab": {},
    "colab_type": "code",
    "id": "DfkYlSQxdihG",
    "outputId": "7dc9cd8c-365e-4b8c-f9a2-59ea773784f9"
   },
   "outputs": [
    {
     "data": {
      "text/plain": [
       "[20, 112, 48, 59, 78, 21, 16, 19, 92, 104, 338, 125, 671, 452]"
      ]
     },
     "execution_count": 10,
     "metadata": {},
     "output_type": "execute_result"
    }
   ],
   "source": [
    "[sample_list[i] + 14 for i in range (0, len(sample_list)) ]"
   ]
  },
  {
   "cell_type": "markdown",
   "metadata": {
    "colab_type": "text",
    "id": "3Y8sulULdihN"
   },
   "source": [
    "### Question \n",
    "This question has two tasks:\n",
    "* Task 1 - Find the factors of all the numbers in a given list. \n",
    "* Task 2 - Add the numbers and their factors to a dictionary where the key will be the numbers from the list, and the values will be the factors of the respective number. \n",
    "\n",
    "Example - \n",
    "##### Sample output :\n",
    "#####{6: [1, 2, 3, 6],\n",
    "98: [1, 2, 7, 14, 49, 98],\n",
    "##### 34: [1, 2, 17, 34],}"
   ]
  },
  {
   "cell_type": "code",
   "execution_count": 2,
   "metadata": {
    "colab": {},
    "colab_type": "code",
    "id": "HYZcnkcMdihO",
    "outputId": "d6705fc6-88c0-4c44-d710-f6b28a109ddf"
   },
   "outputs": [
    {
     "name": "stdout",
     "output_type": "stream",
     "text": [
      "<class 'dict'>\n",
      "{6: [1, 2, 3, 6], 98: [1, 2, 7, 14, 49, 98], 34: [1, 2, 17, 34], 45: [1, 3, 5, 9, 15, 45], 64: [1, 2, 4, 8, 16, 32, 64], 7: [1, 7], 2: [1, 2], 5: [1, 5], 78: [1, 2, 3, 6, 13, 26, 39, 78], 90: [1, 2, 3, 5, 6, 9, 10, 15, 18, 30, 45, 90], 324: [1, 2, 3, 4, 6, 9, 12, 18, 27, 36, 54, 81, 108, 162, 324], 111: [1, 3, 37, 111], 657: [1, 3, 9, 73, 219, 657], 438: [1, 2, 3, 6, 73, 146, 219, 438]}\n"
     ]
    }
   ],
   "source": [
    "sample_list = [6, 98, 34, 45, 64, 7, 2, 5, 78, 90, 324, 111, 657, 438]\n",
    "\n",
    "# write code here\n",
    "dic = {}\n",
    "print(type(dic))\n",
    "for num in sample_list:\n",
    "    dic[num] = []\n",
    "    for i in range (1, num+1):\n",
    "        if num%i==0 :\n",
    "            dic[num].append(i)\n",
    "print (dic)\n"
   ]
  },
  {
   "cell_type": "markdown",
   "metadata": {
    "colab_type": "text",
    "id": "a4ii6VRodihT"
   },
   "source": [
    "### Question \n",
    "\n",
    "Count the total number of unique characters in a given sentence. \n",
    "#####Example - \n",
    "* Input - 'total'\n",
    "* Output  - 'o', 'a', 'l'"
   ]
  },
  {
   "cell_type": "code",
   "execution_count": 4,
   "metadata": {
    "colab": {},
    "colab_type": "code",
    "id": "LZP7Dis7dihU",
    "outputId": "0f2a2a63-b4ad-402c-cd9f-96b3322031fb"
   },
   "outputs": [
    {
     "name": "stdout",
     "output_type": "stream",
     "text": [
      "{'j', 'r', 'm', 'v', 'k', 'u', 's', 'z', 'b', 'd', 't', 'c', 'n', 'g', 'y', 'a', 'f', 'x', 'w', 'e', 'q', 'i', 'P', 'h', 'o', 'l'}\n"
     ]
    }
   ],
   "source": [
    "sample_sentence = \"Pack my box with five dozen liquor jugs\"\n",
    " \n",
    "# write code here \n",
    "l = sample_sentence.split(\" \")\n",
    "s = set()\n",
    "for word in l:\n",
    "    for char in word:\n",
    "        s.add(char)\n",
    "        \n",
    "print(s)\n"
   ]
  },
  {
   "cell_type": "markdown",
   "metadata": {
    "colab_type": "text",
    "id": "yZcGvRkJdihY"
   },
   "source": [
    "### Question \n",
    "\n",
    "Write a calculator application using functions, which will ask for the users input such as - arithmetic operation, number1, number 2, and return the output post applying the arithmetic operator\n",
    "\n",
    "#####Example - \n",
    "\n",
    "\n",
    "```\n",
    "def calc(operation, x,y):\n",
    "    if operation == \"add\":\n",
    "        return x+y\n",
    "```\n",
    "\n"
   ]
  },
  {
   "cell_type": "code",
   "execution_count": null,
   "metadata": {
    "colab": {},
    "colab_type": "code",
    "id": "-z3qD-7odihY"
   },
   "outputs": [],
   "source": [
    "# use functions to write this code\n"
   ]
  },
  {
   "cell_type": "markdown",
   "metadata": {
    "colab_type": "text",
    "id": "mbmuzRQxdihc"
   },
   "source": [
    "### Question \n",
    "\n",
    "Write a code to ask the user to input three numbers and then print the largest one among the three. "
   ]
  },
  {
   "cell_type": "code",
   "execution_count": null,
   "metadata": {
    "colab": {},
    "colab_type": "code",
    "id": "7zsJv1_-dihd",
    "outputId": "5e677bf1-6cb2-4394-ceff-c2017c2814b5"
   },
   "outputs": [
    {
     "name": "stdout",
     "output_type": "stream",
     "text": [
      "Enter three numbers :54 25 65\n",
      "54 25 65\n",
      "The largest number is  65\n"
     ]
    }
   ],
   "source": [
    "# You might want to use nested if statements \n"
   ]
  },
  {
   "cell_type": "markdown",
   "metadata": {
    "colab_type": "text",
    "id": "I5v7ARWPdihi"
   },
   "source": [
    "### Question\n",
    "\n",
    "Check whether a number is perfect or not. \n",
    "\n",
    "A perfect number is a number that is sum of all of its positive divisors (excluding itself).\n",
    "For more info refer to this link - https://www.geeksforgeeks.org/perfect-number/"
   ]
  },
  {
   "cell_type": "code",
   "execution_count": null,
   "metadata": {
    "colab": {},
    "colab_type": "code",
    "id": "L3CXSHwPdihj",
    "outputId": "088bbad4-9ee4-42d2-f12e-c73d79a26f00"
   },
   "outputs": [
    {
     "name": "stdout",
     "output_type": "stream",
     "text": [
      "Enter the number you want to check: 28\n",
      "The number is a perfect number\n"
     ]
    }
   ],
   "source": []
  },
  {
   "cell_type": "markdown",
   "metadata": {
    "colab_type": "text",
    "id": "Wa6HOu8Adihr"
   },
   "source": [
    "### Question \n",
    "\n",
    "Add the elements in the two given lists using map and lambda functions"
   ]
  },
  {
   "cell_type": "code",
   "execution_count": 5,
   "metadata": {
    "colab": {},
    "colab_type": "code",
    "id": "bJMyQdIwdihs"
   },
   "outputs": [
    {
     "data": {
      "text/plain": [
       "[15, 20, 17, 18]"
      ]
     },
     "execution_count": 5,
     "metadata": {},
     "output_type": "execute_result"
    }
   ],
   "source": [
    "list1 = [5, 8, 9, 12]\n",
    "list2 = [10, 12, 8, 6]\n",
    "\n",
    "# write code here \n",
    "f = lambda x,y:x+y\n",
    "list(map(f, list1, list2))"
   ]
  },
  {
   "cell_type": "markdown",
   "metadata": {
    "colab_type": "text",
    "id": "u1POTJjedihw"
   },
   "source": [
    "### Question \n",
    "\n",
    "Write a code to find the factorial of a number using reduce function. \n",
    "#####Example -\n",
    " 5!= 5 * 4 * 3 * 2 * 1=120."
   ]
  },
  {
   "cell_type": "code",
   "execution_count": 7,
   "metadata": {
    "colab": {},
    "colab_type": "code",
    "id": "BKxpeFbFdihx",
    "outputId": "f3a39752-aa16-4904-f5b4-d82c5950fed3"
   },
   "outputs": [
    {
     "data": {
      "text/plain": [
       "120"
      ]
     },
     "execution_count": 7,
     "metadata": {},
     "output_type": "execute_result"
    }
   ],
   "source": [
    "from functools import reduce\n",
    "f = lambda x,y:x*y\n",
    "reduce(f, list(range(1,6)))"
   ]
  }
 ],
 "metadata": {
  "colab": {
   "collapsed_sections": [],
   "name": "Session 3 Practice questions (2).ipynb",
   "provenance": []
  },
  "kernelspec": {
   "display_name": "Python 3 (ipykernel)",
   "language": "python",
   "name": "python3"
  },
  "language_info": {
   "codemirror_mode": {
    "name": "ipython",
    "version": 3
   },
   "file_extension": ".py",
   "mimetype": "text/x-python",
   "name": "python",
   "nbconvert_exporter": "python",
   "pygments_lexer": "ipython3",
   "version": "3.9.7"
  }
 },
 "nbformat": 4,
 "nbformat_minor": 1
}
